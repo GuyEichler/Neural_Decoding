{
 "cells": [
  {
   "cell_type": "markdown",
   "metadata": {},
   "source": [
    "# Example of Kalman Filter decoders\n",
    "\n",
    "This example is similar to those shown in \"Examples_all_decoders.\"\n",
    "However, there is some preprocessing is different for the Kalman, so we have made a separate notebook.\n",
    "\n",
    "In this example notebook, we:\n",
    "1. Import the necessary packages\n",
    "2. Load a data file (spike trains and outputs we are predicting)\n",
    "3. Preprocess the data\n",
    "4. Run the decoders and print the goodness of fit\n",
    "5. Plot example decoded outputs"
   ]
  },
  {
   "cell_type": "markdown",
   "metadata": {},
   "source": [
    "## 1. Import Packages\n",
    "\n",
    "Below, we import both standard packages, and functions from the accompanying .py files"
   ]
  },
  {
   "cell_type": "code",
   "execution_count": 1,
   "metadata": {},
   "outputs": [
    {
     "name": "stdout",
     "output_type": "stream",
     "text": [
      "\n",
      "WARNING: Keras package is not installed. You will be unable to use all neural net decoders\n"
     ]
    }
   ],
   "source": [
    "#Import standard packages\n",
    "import numpy as np\n",
    "import matplotlib.pyplot as plt\n",
    "%matplotlib inline\n",
    "from scipy import io\n",
    "from scipy import stats\n",
    "import pickle\n",
    "\n",
    "# If you would prefer to load the '.h5' example file rather than the '.pickle' example file. You need the deepdish package\n",
    "# import deepdish as dd \n",
    "\n",
    "#Import metrics\n",
    "from Neural_Decoding.metrics import get_R2\n",
    "from Neural_Decoding.metrics import get_rho\n",
    "\n",
    "#Import decoder functions\n",
    "from Neural_Decoding.decoders import KalmanFilterDecoder"
   ]
  },
  {
   "cell_type": "markdown",
   "metadata": {},
   "source": [
    "## 2. Load Data\n",
    "The data for this example can be downloaded at this [link](https://www.dropbox.com/sh/n4924ipcfjqc0t6/AACPWjxDKPEzQiXKUUFriFkJa?dl=0&preview=example_data_s1.pickle). It was recorded by Raeed Chowdhury from Lee Miller's lab at Northwestern.\n",
    "\n",
    "The data that we load is in the format described below. We have another example script, \"neural_preprocessing.py\" that may be helpful towards putting the data in this format.\n",
    "\n",
    "Neural data should be a matrix of size \"number of time bins\" x \"number of neurons\", where each entry is the firing rate of a given neuron in a given time bin\n",
    "\n",
    "The output you are decoding should be a matrix of size \"number of time bins\" x \"number of features you are decoding\""
   ]
  },
  {
   "cell_type": "code",
   "execution_count": 2,
   "metadata": {},
   "outputs": [],
   "source": [
    "folder='' #ENTER THE FOLDER THAT YOUR DATA IS IN\n",
    "# folder='/home/jglaser/Data/DecData/' \n",
    "\n",
    "#with open(folder+'example_data_s1.pickle','rb') as f:\n",
    "with open(folder+'example_data_m1.pickle','rb') as f:\n",
    "#     neural_data,vels_binned=pickle.load(f,encoding='latin1') #If using python 3\n",
    "    neural_data,vels_binned=pickle.load(f)\n",
    "    \n",
    "# #If you would prefer to load the '.h5' example file rather than the '.pickle' example file.\n",
    "# data=dd.io.load(folder+'example_data_s1.h5')\n",
    "# neural_data=data['neural_data']\n",
    "# vels_binned=data['vels_binned']"
   ]
  },
  {
   "cell_type": "code",
   "execution_count": 3,
   "metadata": {},
   "outputs": [
    {
     "data": {
      "text/plain": [
       "(25299, 164)"
      ]
     },
     "execution_count": 3,
     "metadata": {},
     "output_type": "execute_result"
    }
   ],
   "source": [
    "neural_data.shape"
   ]
  },
  {
   "cell_type": "markdown",
   "metadata": {},
   "source": [
    "## 3. Preprocess Data"
   ]
  },
  {
   "cell_type": "markdown",
   "metadata": {},
   "source": [
    "### 3A. User Inputs\n",
    "The user can define what time period to use spikes from (with respect to the output)."
   ]
  },
  {
   "cell_type": "code",
   "execution_count": 4,
   "metadata": {},
   "outputs": [],
   "source": [
    "lag=0 #What time bin of spikes should be used relative to the output\n",
    "#(lag=-1 means use the spikes 1 bin before the output)"
   ]
  },
  {
   "cell_type": "markdown",
   "metadata": {},
   "source": [
    "### 3B. Format Covariates"
   ]
  },
  {
   "cell_type": "markdown",
   "metadata": {},
   "source": [
    "#### Format Input"
   ]
  },
  {
   "cell_type": "code",
   "execution_count": 5,
   "metadata": {},
   "outputs": [],
   "source": [
    "#The covariate is simply the matrix of firing rates for all neurons over time\n",
    "X_kf=neural_data"
   ]
  },
  {
   "cell_type": "code",
   "execution_count": 6,
   "metadata": {},
   "outputs": [
    {
     "data": {
      "text/plain": [
       "array([[1., 0., 0., ..., 0., 0., 0.],\n",
       "       [1., 0., 0., ..., 0., 0., 0.],\n",
       "       [1., 0., 0., ..., 0., 0., 0.],\n",
       "       ...,\n",
       "       [0., 0., 0., ..., 0., 0., 0.],\n",
       "       [0., 0., 0., ..., 0., 0., 0.],\n",
       "       [0., 0., 0., ..., 0., 0., 0.]])"
      ]
     },
     "execution_count": 6,
     "metadata": {},
     "output_type": "execute_result"
    }
   ],
   "source": [
    "X_kf"
   ]
  },
  {
   "cell_type": "markdown",
   "metadata": {},
   "source": [
    "#### Format Output"
   ]
  },
  {
   "cell_type": "code",
   "execution_count": 7,
   "metadata": {},
   "outputs": [],
   "source": [
    "#For the Kalman filter, we use the position, velocity, and acceleration as outputs\n",
    "#Ultimately, we are only concerned with the goodness of fit of velocity (for this dataset)\n",
    "#But using them all as covariates helps performance\n",
    "\n",
    "#We will now determine position\n",
    "pos_binned=np.zeros(vels_binned.shape) #Initialize \n",
    "pos_binned[0,:]=0 #Assume starting position is at [0,0]\n",
    "#Loop through time bins and determine positions based on the velocities\n",
    "for i in range(pos_binned.shape[0]-1): \n",
    "    pos_binned[i+1,0]=pos_binned[i,0]+vels_binned[i,0]*.05 #Note that .05 is the length of the time bin\n",
    "    pos_binned[i+1,1]=pos_binned[i,1]+vels_binned[i,1]*.05\n",
    "\n",
    "#We will now determine acceleration    \n",
    "temp=np.diff(vels_binned,axis=0) #The acceleration is the difference in velocities across time bins \n",
    "acc_binned=np.concatenate((temp,temp[-1:,:]),axis=0) #Assume acceleration at last time point is same as 2nd to last\n",
    "\n",
    "#The final output covariates include position, velocity, and acceleration\n",
    "y_kf=np.concatenate((pos_binned,vels_binned,acc_binned),axis=1)"
   ]
  },
  {
   "cell_type": "code",
   "execution_count": 8,
   "metadata": {},
   "outputs": [
    {
     "name": "stdout",
     "output_type": "stream",
     "text": [
      "(25299, 6)\n",
      "(25299, 164)\n",
      "(25299, 2)\n"
     ]
    }
   ],
   "source": [
    "print(y_kf.shape)\n",
    "print(X_kf.shape)\n",
    "print(pos_binned.shape)"
   ]
  },
  {
   "cell_type": "markdown",
   "metadata": {},
   "source": [
    "### 3C. Take lag into account"
   ]
  },
  {
   "cell_type": "code",
   "execution_count": 9,
   "metadata": {},
   "outputs": [],
   "source": [
    "num_examples=X_kf.shape[0]\n",
    "\n",
    "#Re-align data to take lag into account\n",
    "if lag<0:\n",
    "    y_kf=y_kf[-lag:,:]\n",
    "    X_kf=X_kf[0:num_examples+lag,:]\n",
    "if lag>0:\n",
    "    y_kf=y_kf[0:num_examples-lag,:]\n",
    "    X_kf=X_kf[lag:num_examples,:]"
   ]
  },
  {
   "cell_type": "markdown",
   "metadata": {},
   "source": [
    "### 3D. Split into training/testing/validation sets\n",
    "Note that parameters should be setting using a separate validation set. \n",
    "Then, the goodness of fit should be be tested on a testing set (separate from the training and validation sets)."
   ]
  },
  {
   "cell_type": "markdown",
   "metadata": {},
   "source": [
    "### User Options"
   ]
  },
  {
   "cell_type": "code",
   "execution_count": 10,
   "metadata": {},
   "outputs": [],
   "source": [
    "#Set what part of data should be part of the training/testing/validation sets\n",
    "training_range=[0, 0.7]\n",
    "testing_range=[0.7, 0.85]\n",
    "valid_range=[0.85,1]"
   ]
  },
  {
   "cell_type": "markdown",
   "metadata": {},
   "source": [
    "### Split Data: For KF"
   ]
  },
  {
   "cell_type": "code",
   "execution_count": 11,
   "metadata": {},
   "outputs": [
    {
     "name": "stderr",
     "output_type": "stream",
     "text": [
      "/tmp/ipykernel_4713/735105408.py:6: DeprecationWarning: `np.int` is a deprecated alias for the builtin `int`. To silence this warning, use `int` by itself. Doing this will not modify any behavior and is safe. When replacing `np.int`, you may wish to use e.g. `np.int64` or `np.int32` to specify the precision. If you wish to review your current use, check the release note link for additional information.\n",
      "Deprecated in NumPy 1.20; for more details and guidance: https://numpy.org/devdocs/release/1.20.0-notes.html#deprecations\n",
      "  training_set=np.arange(np.int(np.round(training_range[0]*num_examples_kf))+1,np.int(np.round(training_range[1]*num_examples_kf))-1)\n",
      "/tmp/ipykernel_4713/735105408.py:7: DeprecationWarning: `np.int` is a deprecated alias for the builtin `int`. To silence this warning, use `int` by itself. Doing this will not modify any behavior and is safe. When replacing `np.int`, you may wish to use e.g. `np.int64` or `np.int32` to specify the precision. If you wish to review your current use, check the release note link for additional information.\n",
      "Deprecated in NumPy 1.20; for more details and guidance: https://numpy.org/devdocs/release/1.20.0-notes.html#deprecations\n",
      "  testing_set=np.arange(np.int(np.round(testing_range[0]*num_examples_kf))+1,np.int(np.round(testing_range[1]*num_examples_kf))-1)\n",
      "/tmp/ipykernel_4713/735105408.py:8: DeprecationWarning: `np.int` is a deprecated alias for the builtin `int`. To silence this warning, use `int` by itself. Doing this will not modify any behavior and is safe. When replacing `np.int`, you may wish to use e.g. `np.int64` or `np.int32` to specify the precision. If you wish to review your current use, check the release note link for additional information.\n",
      "Deprecated in NumPy 1.20; for more details and guidance: https://numpy.org/devdocs/release/1.20.0-notes.html#deprecations\n",
      "  valid_set=np.arange(np.int(np.round(valid_range[0]*num_examples_kf))+1,np.int(np.round(valid_range[1]*num_examples_kf))-1)\n"
     ]
    }
   ],
   "source": [
    "#Number of examples after taking into account bins removed for lag alignment\n",
    "num_examples_kf=X_kf.shape[0]\n",
    "        \n",
    "#Note that each range has a buffer of 1 bin at the beginning and end\n",
    "#This makes it so that the different sets don't include overlapping data\n",
    "training_set=np.arange(np.int(np.round(training_range[0]*num_examples_kf))+1,np.int(np.round(training_range[1]*num_examples_kf))-1)\n",
    "testing_set=np.arange(np.int(np.round(testing_range[0]*num_examples_kf))+1,np.int(np.round(testing_range[1]*num_examples_kf))-1)\n",
    "valid_set=np.arange(np.int(np.round(valid_range[0]*num_examples_kf))+1,np.int(np.round(valid_range[1]*num_examples_kf))-1)\n",
    "\n",
    "#Get training data\n",
    "X_kf_train=X_kf[training_set,:]\n",
    "y_kf_train=y_kf[training_set,:]\n",
    "\n",
    "#Get testing data\n",
    "X_kf_test=X_kf[testing_set,:]\n",
    "y_kf_test=y_kf[testing_set,:]\n",
    "\n",
    "#Get validation data\n",
    "X_kf_valid=X_kf[valid_set,:]\n",
    "y_kf_valid=y_kf[valid_set,:]"
   ]
  },
  {
   "cell_type": "code",
   "execution_count": 12,
   "metadata": {},
   "outputs": [
    {
     "data": {
      "text/plain": [
       "(164, 3793)"
      ]
     },
     "execution_count": 12,
     "metadata": {},
     "output_type": "execute_result"
    }
   ],
   "source": [
    "X_kf_valid.T.shape"
   ]
  },
  {
   "cell_type": "markdown",
   "metadata": {},
   "source": [
    "### 3E. Preprocessing: Normalization and zero-centering\n",
    "We normalize (z_score) the inputs and zero-center the outputs.\n",
    "Parameters for z-scoring (mean/std.) should be determined on the training set only, and then these z-scoring parameters are also used on the testing and validation sets."
   ]
  },
  {
   "cell_type": "code",
   "execution_count": 13,
   "metadata": {},
   "outputs": [],
   "source": [
    "#Z-score inputs \n",
    "X_kf_train_mean=np.nanmean(X_kf_train,axis=0)\n",
    "X_kf_train_std=np.nanstd(X_kf_train,axis=0)\n",
    "X_kf_train=(X_kf_train-X_kf_train_mean)/X_kf_train_std\n",
    "X_kf_test=(X_kf_test-X_kf_train_mean)/X_kf_train_std\n",
    "X_kf_valid=(X_kf_valid-X_kf_train_mean)/X_kf_train_std\n",
    "\n",
    "#Zero-center outputs\n",
    "y_kf_train_mean=np.mean(y_kf_train,axis=0)\n",
    "y_kf_train=y_kf_train-y_kf_train_mean\n",
    "y_kf_test=y_kf_test-y_kf_train_mean\n",
    "y_kf_valid=y_kf_valid-y_kf_train_mean"
   ]
  },
  {
   "cell_type": "code",
   "execution_count": 14,
   "metadata": {},
   "outputs": [
    {
     "name": "stdout",
     "output_type": "stream",
     "text": [
      "(17707, 6)\n",
      "(3793, 6)\n",
      "(3793, 6)\n"
     ]
    }
   ],
   "source": [
    "print(y_kf_train.shape)\n",
    "print(y_kf_valid.shape)\n",
    "print(y_kf_test.shape)"
   ]
  },
  {
   "cell_type": "markdown",
   "metadata": {},
   "source": [
    "## 4. Run Decoder\n",
    "Note that in this example, we are evaluating the model fit on the validation set"
   ]
  },
  {
   "cell_type": "markdown",
   "metadata": {},
   "source": [
    "### Kalman Filter"
   ]
  },
  {
   "cell_type": "code",
   "execution_count": 17,
   "metadata": {},
   "outputs": [
    {
     "name": "stdout",
     "output_type": "stream",
     "text": [
      "1.9676628112792969\n",
      "R2: [0.70283181 0.69179512]\n",
      "rho2: [0.7297484  0.74582555]\n"
     ]
    }
   ],
   "source": [
    "import time\n",
    "\n",
    "#Declare model\n",
    "model_kf=KalmanFilterDecoder(C=1) #There is one optional parameter that is set to the default in this example (see ReadMe)\n",
    "\n",
    "#Fit model\n",
    "model_kf.fit(X_kf_train,y_kf_train)\n",
    "\n",
    "start = time.time()\n",
    "#Get predictions\n",
    "y_valid_predicted_kf=model_kf.predict(X_kf_valid,y_kf_valid)\n",
    "end = time.time()\n",
    "print(end - start)\n",
    "\n",
    "#Get metrics of fit (see read me for more details on the differences between metrics)\n",
    "#First I'll get the R^2\n",
    "R2_kf=get_R2(y_kf_valid,y_valid_predicted_kf)\n",
    "print('R2:',R2_kf[2:4]) #I'm just printing the R^2's of the 3rd and 4th entries that correspond to the velocities\n",
    "#Next I'll get the rho^2 (the pearson correlation squared)\n",
    "rho_kf=get_rho(y_kf_valid,y_valid_predicted_kf)\n",
    "print('rho2:',rho_kf[2:4]**2) #I'm just printing the rho^2's of the 3rd and 4th entries that correspond to the velocities"
   ]
  },
  {
   "cell_type": "code",
   "execution_count": 18,
   "metadata": {},
   "outputs": [
    {
     "data": {
      "text/plain": [
       "array([ 4.97861965, -6.39276792, -5.37991873, -0.31415295, -0.33907169,\n",
       "        0.84742554])"
      ]
     },
     "execution_count": 18,
     "metadata": {},
     "output_type": "execute_result"
    }
   ],
   "source": [
    "y_valid_predicted_kf[1,:]"
   ]
  },
  {
   "cell_type": "code",
   "execution_count": 172,
   "metadata": {},
   "outputs": [
    {
     "data": {
      "text/plain": [
       "array([-0.753236  , -0.32789325, -0.29694172,  0.82771067, -0.47923531,\n",
       "       -0.11163928, -0.13808154, -0.47612231, -0.32990689,  0.20011297,\n",
       "       -0.34729321,  1.61095119,  4.27443405, -1.06167822, -0.32738875,\n",
       "       -0.63660876, -0.42864185,  1.15508876,  1.74032065, -0.65315675,\n",
       "        0.19322304,  0.18635939, -0.54505873, -0.27424835, -0.80076238,\n",
       "        0.78787044,  0.29264459, -0.57892214,  0.32729586, -0.28677135,\n",
       "       -0.23266334, -0.3930669 , -0.49349641,  0.35176339, -0.30863601,\n",
       "        0.33561151,  0.29442591, -0.81407605, -0.63850905, -0.29441206,\n",
       "        0.66061806, -0.37600751, -0.44213227, -0.46639024, -0.2957264 ,\n",
       "       -0.34529539,  1.71676257, -0.47214777, -0.30697588, -0.24614796,\n",
       "       -0.52770824, -0.64102627, -0.25145597,  0.08977003, -0.92060313,\n",
       "       -0.65523648,  1.16275718, -0.78878065, -0.07096832, -0.15923469,\n",
       "       -0.165219  , -0.78282864,  0.7086142 , -0.54536443, -0.36598697,\n",
       "       -0.7778396 , -0.59700715, -0.84061752,  0.59670325, -1.01302002,\n",
       "       -0.21086862, -0.25213763,  0.81154592, -0.19438434, -0.14903726,\n",
       "       -0.19298607,  1.59249533, -0.39165558,  4.14986174,  1.80964014,\n",
       "       -0.26473145, -0.23125839, -0.21011175, -0.22143157, -0.05321408,\n",
       "       -0.19255767, -0.19452841, -0.27889903, -0.32014136, -0.11308532,\n",
       "       -0.21288182,  1.83076482, -0.13164794, -0.10828863, -0.26077178,\n",
       "       -0.20236989, -0.09596072,  6.29156992,  3.75231197, -0.19610795,\n",
       "       -0.28907483, -0.27504422, -0.27616463, -0.32774303, -0.30492566,\n",
       "       -0.09490406, -0.36178471, -0.36946661, -0.43219456, -0.23708246,\n",
       "       -0.17900312, -0.18213937, -0.14924157, -0.14405972, -0.27810707,\n",
       "       -0.60241985, -0.39300223, -0.65877879,  0.74705223, -0.39751884,\n",
       "       -0.44709642, -0.17482574, -0.23946846, -0.26631245, -0.25053817,\n",
       "       -0.5429512 , -0.20331779, -0.22816825, -0.70602817, -0.30123378,\n",
       "       -0.26855523, -0.45592718, -0.53469944, -0.33768853, -0.37144983,\n",
       "        1.96260379,  2.33519267, -0.51378201, -0.20268525, -0.31533927,\n",
       "       -0.28216316, -0.21018251, -0.51845125, -0.38175532, -0.16308758,\n",
       "       -0.41011607, -0.44867488, -0.419977  , -0.22956253, -0.44364856,\n",
       "       -0.41160741, -0.67518002,  0.61544534, -0.61342439, -0.78764968,\n",
       "       -0.26074754,  0.4077469 , -0.42907985, -0.37236501, -0.55412422,\n",
       "       -0.27252674, -0.17002994,  4.00975117, -0.14620456])"
      ]
     },
     "execution_count": 172,
     "metadata": {},
     "output_type": "execute_result"
    }
   ],
   "source": [
    "X_kf_valid.T[:,1]"
   ]
  },
  {
   "cell_type": "code",
   "execution_count": 163,
   "metadata": {},
   "outputs": [
    {
     "data": {
      "text/plain": [
       "array([ 4.97861965, -6.39276792, -5.37991873, -0.31415295, -0.33907169,\n",
       "        0.84742554])"
      ]
     },
     "execution_count": 163,
     "metadata": {},
     "output_type": "execute_result"
    }
   ],
   "source": [
    "y_valid_predicted_kf.T[:,1]"
   ]
  },
  {
   "cell_type": "code",
   "execution_count": 82,
   "metadata": {},
   "outputs": [],
   "source": [
    "A,W,H,Q = model_kf.model"
   ]
  },
  {
   "cell_type": "code",
   "execution_count": 147,
   "metadata": {},
   "outputs": [],
   "source": [
    "matrices = model_kf.model"
   ]
  },
  {
   "cell_type": "code",
   "execution_count": 148,
   "metadata": {},
   "outputs": [
    {
     "name": "stdout",
     "output_type": "stream",
     "text": [
      "(6, 6)\n",
      "(6, 6)\n",
      "(164, 6)\n",
      "(164, 164)\n",
      "6\n",
      "164\n"
     ]
    }
   ],
   "source": [
    "print(A.shape)\n",
    "print(W.shape)\n",
    "print(H.shape)\n",
    "print(Q.shape)\n",
    "\n",
    "num_states = np.matrix(y_kf_valid.T).shape[0]\n",
    "print(num_states)\n",
    "num_neurons = np.matrix(X_kf_valid.T).shape[0]\n",
    "print(num_neurons)"
   ]
  },
  {
   "cell_type": "code",
   "execution_count": 151,
   "metadata": {},
   "outputs": [
    {
     "name": "stdout",
     "output_type": "stream",
     "text": [
      "[[ 9.99999991e-01 -5.53436991e-09  5.00000027e-02 -2.79810025e-09\n",
      "  -1.35241238e-10 -1.29276834e-08]\n",
      " [-3.88396588e-09  9.99999998e-01  1.11290989e-09  4.99999988e-02\n",
      "  -5.62050684e-11 -5.37263120e-09]\n",
      " [ 7.91560022e-09  4.68751798e-09  9.99999998e-01  2.36994385e-09\n",
      "   1.00000000e+00  1.09495303e-08]\n",
      " [-1.13499874e-08 -6.72131868e-09  3.25222034e-09  9.99999997e-01\n",
      "  -1.64246339e-10  9.99999984e-01]\n",
      " [-1.57959918e-02 -1.94564152e-02 -6.58598404e-02 -5.76615379e-03\n",
      "   7.96963032e-01 -3.04185259e-02]\n",
      " [ 1.45967533e-02 -2.70009081e-02 -5.77255910e-03 -9.09666033e-02\n",
      "  -3.12457262e-02  6.93125512e-01]]\n"
     ]
    }
   ],
   "source": [
    "print(A)"
   ]
  },
  {
   "cell_type": "code",
   "execution_count": 176,
   "metadata": {},
   "outputs": [],
   "source": [
    "#printing raw values into a file for tests                                                                                                                          \n",
    "counter = 0\n",
    "with open('A_array.h', 'w') as f:\n",
    "  f.write(\"float A[] = {\")\n",
    "  for item in np.nditer(np.ravel(A)):\n",
    "    if(counter < A.shape[0]*A.shape[1]):\n",
    "      f.write(str(item))\n",
    "      if(counter < A.shape[0]*A.shape[1] - 1):\n",
    "        f.write(', ')\n",
    "      counter = counter+1\n",
    "\n",
    "  f.write(\"};\")\n",
    "  f.close()\n",
    "    \n",
    "counter = 0\n",
    "with open('W_array.h', 'w') as f:\n",
    "  f.write(\"float W[] = {\")\n",
    "  for item in np.nditer(np.ravel(W)):\n",
    "    if(counter < W.shape[0]*W.shape[1]):\n",
    "      f.write(str(item))\n",
    "      if(counter < W.shape[0]*W.shape[1] - 1):\n",
    "        f.write(', ')\n",
    "      counter = counter+1\n",
    "\n",
    "  f.write(\"};\")\n",
    "  f.close()\n",
    "    \n",
    "counter = 0\n",
    "with open('H_array.h', 'w') as f:\n",
    "  f.write(\"float H[] = {\")\n",
    "  for item in np.nditer(np.ravel(H)):\n",
    "    if(counter < H.shape[0]*H.shape[1]):\n",
    "      f.write(str(item))\n",
    "      if(counter < H.shape[0]*H.shape[1] - 1):\n",
    "        f.write(', ')\n",
    "      counter = counter+1\n",
    "\n",
    "  f.write(\"};\")\n",
    "  f.close()\n",
    "    \n",
    "counter = 0\n",
    "with open('Q_array.h', 'w') as f:\n",
    "  f.write(\"float Q[] = {\")\n",
    "  for item in np.nditer(np.ravel(Q)):\n",
    "    if(counter < Q.shape[0]*Q.shape[1]):\n",
    "      f.write(str(item))\n",
    "      if(counter < Q.shape[0]*Q.shape[1] - 1):\n",
    "        f.write(', ')\n",
    "      counter = counter+1\n",
    "\n",
    "  f.write(\"};\")\n",
    "  f.close()\n",
    "    \n",
    "counter = 0\n",
    "with open('initial_state_array.h', 'w') as f:\n",
    "  f.write(\"float initial[] = {\")\n",
    "  for item in np.nditer(np.ravel(y_kf_valid.T[:,0])):\n",
    "    if(counter < y_kf_valid.T[:,0].shape[0]):\n",
    "      f.write(str(item))\n",
    "      if(counter < y_kf_valid.T[:,0].shape[0] - 1):\n",
    "        f.write(', ')\n",
    "      counter = counter+1\n",
    "\n",
    "  f.write(\"};\")\n",
    "  f.close() \n",
    "    \n",
    "counter = 0\n",
    "with open('measurements_array.h', 'w') as f:\n",
    "  f.write(\"float measurements[] = {\")\n",
    "  for item in np.nditer(np.ravel(X_kf_valid)):\n",
    "    if(counter < X_kf_valid.T.shape[0]*X_kf_valid.T.shape[1]):\n",
    "      f.write(str(item))\n",
    "      if(counter < X_kf_valid.T.shape[0]*X_kf_valid.T.shape[1] - 1):\n",
    "        f.write(', ')\n",
    "      counter = counter+1\n",
    "\n",
    "  f.write(\"};\")\n",
    "  f.close() \n",
    "    \n",
    "    \n",
    "counter = 0\n",
    "with open('prediction_array.h', 'w') as f:\n",
    "  f.write(\"float prediction[] = {\")\n",
    "  for item in np.nditer(np.ravel(y_valid_predicted_kf)):\n",
    "    if(counter < y_valid_predicted_kf.T.shape[0]*y_valid_predicted_kf.T.shape[1]):\n",
    "      f.write(str(item))\n",
    "      if(counter < y_valid_predicted_kf.T.shape[0]*y_valid_predicted_kf.T.shape[1] - 1):\n",
    "        f.write(', ')\n",
    "      counter = counter+1\n",
    "\n",
    "  f.write(\"};\")\n",
    "  f.close() \n",
    "    \n",
    "counter = 0\n",
    "with open('real_array.h', 'w') as f:\n",
    "  f.write(\"float real_out[] = {\")\n",
    "  for item in np.nditer(np.ravel(y_kf_valid)):\n",
    "    if(counter < y_kf_valid.T.shape[0]*y_kf_valid.T.shape[1]):\n",
    "      f.write(str(item))\n",
    "      if(counter < y_kf_valid.T.shape[0]*y_kf_valid.T.shape[1] - 1):\n",
    "        f.write(', ')\n",
    "      counter = counter+1\n",
    "\n",
    "  f.write(\"};\")\n",
    "  f.close() \n"
   ]
  },
  {
   "cell_type": "markdown",
   "metadata": {},
   "source": [
    "## 5. Make Plots"
   ]
  },
  {
   "cell_type": "code",
   "execution_count": 85,
   "metadata": {},
   "outputs": [
    {
     "data": {
      "text/plain": [
       "[<matplotlib.lines.Line2D at 0x7f0d41900790>]"
      ]
     },
     "execution_count": 85,
     "metadata": {},
     "output_type": "execute_result"
    },
    {
     "data": {
      "image/png": "[encoded data removed]",
      "text/plain": [
       "<Figure size 432x288 with 1 Axes>"
      ]
     },
     "metadata": {
      "needs_background": "light"
     },
     "output_type": "display_data"
    }
   ],
   "source": [
    "#As an example, I plot an example 1000 values of the x velocity (column index 2), both true and predicted with the Kalman filter\n",
    "#Note that I add back in the mean value, so that both true and predicted values are in the original coordinates\n",
    "fig_x_kf=plt.figure()\n",
    "plt.plot(y_kf_valid[1000:2000,2]+y_kf_train_mean[2],'b')\n",
    "plt.plot(y_valid_predicted_kf[1000:2000,2]+y_kf_train_mean[2],'r')\n",
    "#Save figure\n",
    "# fig_x_kf.savefig('x_velocity_decoding.eps')"
   ]
  },
  {
   "cell_type": "code",
   "execution_count": 16,
   "metadata": {},
   "outputs": [
    {
     "name": "stdout",
     "output_type": "stream",
     "text": [
      "R2: [0.64903543 0.69482121]\n",
      "rho2: [0.68524289 0.69753024]\n"
     ]
    }
   ],
   "source": [
    "#Test set\n",
    "\n",
    "#Get predictions\n",
    "y_test_predicted_kf=model_kf.predict(X_kf_test,y_kf_test)\n",
    "\n",
    "#Get metrics of fit (see read me for more details on the differences between metrics)\n",
    "#First I'll get the R^2\n",
    "R2_kf=get_R2(y_kf_test,y_test_predicted_kf)\n",
    "print('R2:',R2_kf[2:4]) #I'm just printing the R^2's of the 3rd and 4th entries that correspond to the velocities\n",
    "#Next I'll get the rho^2 (the pearson correlation squared)\n",
    "rho_kf=get_rho(y_kf_test,y_test_predicted_kf)\n",
    "print('rho2:',rho_kf[2:4]**2) #I'm just printing the rho^2's of the 3rd and 4th entries that correspond to the velocities"
   ]
  },
  {
   "cell_type": "code",
   "execution_count": 17,
   "metadata": {},
   "outputs": [
    {
     "data": {
      "text/plain": [
       "[<matplotlib.lines.Line2D at 0x7fce028579d0>]"
      ]
     },
     "execution_count": 17,
     "metadata": {},
     "output_type": "execute_result"
    },
    {
     "data": {
      "image/png": "[encoded data removed]",
      "text/plain": [
       "<Figure size 432x288 with 1 Axes>"
      ]
     },
     "metadata": {
      "needs_background": "light"
     },
     "output_type": "display_data"
    }
   ],
   "source": [
    "#As an example, I plot an example 1000 values of the x velocity (column index 2), both true and predicted with the Kalman filter\n",
    "#Note that I add back in the mean value, so that both true and predicted values are in the original coordinates\n",
    "fig_x_kf=plt.figure()\n",
    "plt.plot(y_kf_test[1000:2000,2]+y_kf_train_mean[2],'b')\n",
    "plt.plot(y_test_predicted_kf[1000:2000,2]+y_kf_train_mean[2],'r')\n",
    "#Save figure\n",
    "# fig_x_kf.savefig('x_velocity_decoding.eps')"
   ]
  },
  {
   "cell_type": "code",
   "execution_count": null,
   "metadata": {},
   "outputs": [],
   "source": []
  }
 ],
 "metadata": {
  "anaconda-cloud": {},
  "kernelspec": {
   "display_name": "Python 3",
   "language": "python",
   "name": "python3"
  },
  "language_info": {
   "codemirror_mode": {
    "name": "ipython",
    "version": 3
   },
   "file_extension": ".py",
   "mimetype": "text/x-python",
   "name": "python",
   "nbconvert_exporter": "python",
   "pygments_lexer": "ipython3",
   "version": "3.8.10"
  }
 },
 "nbformat": 4,
 "nbformat_minor": 1
}
