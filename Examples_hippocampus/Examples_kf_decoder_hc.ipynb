{
 "cells": [
  {
   "cell_type": "markdown",
   "metadata": {},
   "source": [
    "# Example of Kalman Filter decoders\n",
    "\n",
    "This example is similar to those shown in \"Examples_all_decoders.\"\n",
    "However, there is some preprocessing is different for the Kalman, so we have made a separate notebook.\n",
    "\n",
    "In this example notebook, we:\n",
    "1. Import the necessary packages\n",
    "2. Load a data file (spike trains and outputs we are predicting)\n",
    "3. Preprocess the data\n",
    "4. Run the decoders and print the goodness of fit\n",
    "5. Plot example decoded outputs"
   ]
  },
  {
   "cell_type": "markdown",
   "metadata": {},
   "source": [
    "## 1. Import Packages\n",
    "\n",
    "Below, we import both standard packages, and functions from the accompanying .py files\n",
    "\n",
    "Note that you may need to specify the path below"
   ]
  },
  {
   "cell_type": "code",
   "execution_count": 14,
   "metadata": {},
   "outputs": [],
   "source": [
    "#Import standard packages\n",
    "import numpy as np\n",
    "import matplotlib.pyplot as plt\n",
    "%matplotlib inline\n",
    "from scipy import io\n",
    "from scipy import stats\n",
    "import pickle\n",
    "import sys\n",
    "\n",
    "#Import metrics\n",
    "from Neural_Decoding.metrics import get_R2\n",
    "from Neural_Decoding.metrics import get_rho\n",
    "\n",
    "#Import decoder functions\n",
    "from Neural_Decoding.decoders import KalmanFilterDecoder"
   ]
  },
  {
   "cell_type": "markdown",
   "metadata": {},
   "source": [
    "## 2. Load Data\n",
    "The data for this example can be downloaded at this [link](https://www.dropbox.com/s/e9mul73ur9omu5f/example_data_hc.pickle?dl=0).\n",
    "\n",
    "It is the hc-2 dataset from [crcns](https://crcns.org/data-sets/hc/hc-2). Specifically, we use the dataset \"ec014.333\" \n",
    "\n",
    "\n",
    "The data that we load is in the format described below. We have another example notebook, \"Example_format_data_hc\", that may be helpful towards putting the data in this format.\n",
    "\n",
    "Neural data should be a matrix of size \"number of time bins\" x \"number of neurons\", where each entry is the firing rate of a given neuron in a given time bin\n",
    "\n",
    "The output you are decoding should be a matrix of size \"number of time bins\" x \"number of features you are decoding\""
   ]
  },
  {
   "cell_type": "code",
   "execution_count": 15,
   "metadata": {},
   "outputs": [],
   "source": [
    "folder='../' #ENTER THE FOLDER THAT YOUR DATA IS IN\n",
    "# folder='/home/jglaser/Data/DecData/' \n",
    "# folder='/Users/jig289/Dropbox/Public/Decoding_Data/'\n",
    "\n",
    "with open(folder+'example_data_hc.pickle','rb') as f:\n",
    "#     neural_data,pos_binned=pickle.load(f,encoding='latin1') #If using python 3\n",
    "    neural_data,pos_binned=pickle.load(f) #If using python 2"
   ]
  },
  {
   "cell_type": "markdown",
   "metadata": {},
   "source": [
    "## 3. Preprocess Data"
   ]
  },
  {
   "cell_type": "markdown",
   "metadata": {},
   "source": [
    "### 3A. User Inputs\n",
    "The user can define what time period to use spikes from (with respect to the output)."
   ]
  },
  {
   "cell_type": "code",
   "execution_count": 16,
   "metadata": {},
   "outputs": [],
   "source": [
    "lag=0 #What time bin of spikes should be used relative to the output\n",
    "#(lag=-1 means use the spikes 1 bin before the output)"
   ]
  },
  {
   "cell_type": "markdown",
   "metadata": {},
   "source": [
    "### 3B. Format Covariates"
   ]
  },
  {
   "cell_type": "markdown",
   "metadata": {},
   "source": [
    "#### Format Input"
   ]
  },
  {
   "cell_type": "code",
   "execution_count": 17,
   "metadata": {},
   "outputs": [],
   "source": [
    "#Remove neurons with too few spikes in HC dataset\n",
    "nd_sum=np.nansum(neural_data,axis=0) #Total number of spikes of each neuron\n",
    "rmv_nrn=np.where(nd_sum<100) #Find neurons who have less than 100 spikes total\n",
    "neural_data=np.delete(neural_data,rmv_nrn,1) #Remove those neurons"
   ]
  },
  {
   "cell_type": "code",
   "execution_count": 18,
   "metadata": {},
   "outputs": [],
   "source": [
    "#The covariate is simply the matrix of firing rates for all neurons over time\n",
    "X_kf=neural_data"
   ]
  },
  {
   "cell_type": "markdown",
   "metadata": {},
   "source": [
    "#### Format Output"
   ]
  },
  {
   "cell_type": "code",
   "execution_count": 19,
   "metadata": {},
   "outputs": [],
   "source": [
    "#For the Kalman filter, we use the position, velocity, and acceleration as outputs\n",
    "#Ultimately, we are only concerned with the goodness of fit of position (for this dataset)\n",
    "#But using them all as covariates helps performance\n",
    "\n",
    "#We now determine velocity\n",
    "temp=np.diff(pos_binned,axis=0)\n",
    "vels_binned=np.concatenate((temp,temp[-1:,:]),axis=0)\n",
    "\n",
    "#We now determine acceleration\n",
    "temp2=np.diff(vels_binned,axis=0)\n",
    "acc_binned=np.concatenate((temp2,temp2[-1:,:]),axis=0)\n",
    "\n",
    "y_kf=np.concatenate((pos_binned,vels_binned,acc_binned),axis=1)"
   ]
  },
  {
   "cell_type": "code",
   "execution_count": 20,
   "metadata": {},
   "outputs": [],
   "source": [
    "#Remove time bins with no output (y value)\n",
    "rmv_time=np.where(np.isnan(y_kf[:,0]) | np.isnan(y_kf[:,1]))\n",
    "X_kf=np.delete(X_kf,rmv_time,0)\n",
    "y_kf=np.delete(y_kf,rmv_time,0)"
   ]
  },
  {
   "cell_type": "code",
   "execution_count": 21,
   "metadata": {},
   "outputs": [
    {
     "name": "stdout",
     "output_type": "stream",
     "text": [
      "(27854, 6)\n",
      "(27854, 46)\n"
     ]
    }
   ],
   "source": [
    "print(y_kf.shape)\n",
    "print(X_kf.shape)"
   ]
  },
  {
   "cell_type": "markdown",
   "metadata": {},
   "source": [
    "### 3C. Take lag into account"
   ]
  },
  {
   "cell_type": "code",
   "execution_count": 22,
   "metadata": {},
   "outputs": [],
   "source": [
    "num_examples=X_kf.shape[0]\n",
    "\n",
    "#Re-align data to take lag into account\n",
    "if lag<0:\n",
    "    y_kf=y_kf[-lag:,:]\n",
    "    X_kf=X_kf[0:num_examples+lag,:]\n",
    "if lag>0:\n",
    "    y_kf=y_kf[0:num_examples-lag,:]\n",
    "    X_kf=X_kf[lag:num_examples,:]"
   ]
  },
  {
   "cell_type": "markdown",
   "metadata": {},
   "source": [
    "### 3D. Split into training/testing/validation sets\n",
    "Note that parameters should be setting using a separate validation set. \n",
    "Then, the goodness of fit should be be tested on a testing set (separate from the training and validation sets)."
   ]
  },
  {
   "cell_type": "markdown",
   "metadata": {},
   "source": [
    "### User Options"
   ]
  },
  {
   "cell_type": "code",
   "execution_count": 43,
   "metadata": {},
   "outputs": [],
   "source": [
    "#Set what part of data should be part of the training/testing/validation sets\n",
    "#Note that there was a long period of no movement after about 80% of recording, so I did not use this data.\n",
    "training_range=[0, 0.5]\n",
    "valid_range=[0.5,0.65]\n",
    "testing_range=[0.65, 0.8]"
   ]
  },
  {
   "cell_type": "code",
   "execution_count": 47,
   "metadata": {},
   "outputs": [],
   "source": [
    "#Set what part of data should be part of the training/testing/validation sets\n",
    "#Note that there was a long period of no movement after about 80% of recording, so I did not use this data.\n",
    "training_range=[0, 0.7]\n",
    "valid_range=[0.7,0.85]\n",
    "testing_range=[0.85, 1]"
   ]
  },
  {
   "cell_type": "markdown",
   "metadata": {},
   "source": [
    "### Split Data: For KF"
   ]
  },
  {
   "cell_type": "code",
   "execution_count": 48,
   "metadata": {},
   "outputs": [
    {
     "name": "stderr",
     "output_type": "stream",
     "text": [
      "/tmp/ipykernel_4042/735105408.py:6: DeprecationWarning: `np.int` is a deprecated alias for the builtin `int`. To silence this warning, use `int` by itself. Doing this will not modify any behavior and is safe. When replacing `np.int`, you may wish to use e.g. `np.int64` or `np.int32` to specify the precision. If you wish to review your current use, check the release note link for additional information.\n",
      "Deprecated in NumPy 1.20; for more details and guidance: https://numpy.org/devdocs/release/1.20.0-notes.html#deprecations\n",
      "  training_set=np.arange(np.int(np.round(training_range[0]*num_examples_kf))+1,np.int(np.round(training_range[1]*num_examples_kf))-1)\n",
      "/tmp/ipykernel_4042/735105408.py:7: DeprecationWarning: `np.int` is a deprecated alias for the builtin `int`. To silence this warning, use `int` by itself. Doing this will not modify any behavior and is safe. When replacing `np.int`, you may wish to use e.g. `np.int64` or `np.int32` to specify the precision. If you wish to review your current use, check the release note link for additional information.\n",
      "Deprecated in NumPy 1.20; for more details and guidance: https://numpy.org/devdocs/release/1.20.0-notes.html#deprecations\n",
      "  testing_set=np.arange(np.int(np.round(testing_range[0]*num_examples_kf))+1,np.int(np.round(testing_range[1]*num_examples_kf))-1)\n",
      "/tmp/ipykernel_4042/735105408.py:8: DeprecationWarning: `np.int` is a deprecated alias for the builtin `int`. To silence this warning, use `int` by itself. Doing this will not modify any behavior and is safe. When replacing `np.int`, you may wish to use e.g. `np.int64` or `np.int32` to specify the precision. If you wish to review your current use, check the release note link for additional information.\n",
      "Deprecated in NumPy 1.20; for more details and guidance: https://numpy.org/devdocs/release/1.20.0-notes.html#deprecations\n",
      "  valid_set=np.arange(np.int(np.round(valid_range[0]*num_examples_kf))+1,np.int(np.round(valid_range[1]*num_examples_kf))-1)\n"
     ]
    }
   ],
   "source": [
    "#Number of examples after taking into account bins removed for lag alignment\n",
    "num_examples_kf=X_kf.shape[0]\n",
    "        \n",
    "#Note that each range has a buffer of 1 bin at the beginning and end\n",
    "#This makes it so that the different sets don't include overlapping data\n",
    "training_set=np.arange(np.int(np.round(training_range[0]*num_examples_kf))+1,np.int(np.round(training_range[1]*num_examples_kf))-1)\n",
    "testing_set=np.arange(np.int(np.round(testing_range[0]*num_examples_kf))+1,np.int(np.round(testing_range[1]*num_examples_kf))-1)\n",
    "valid_set=np.arange(np.int(np.round(valid_range[0]*num_examples_kf))+1,np.int(np.round(valid_range[1]*num_examples_kf))-1)\n",
    "\n",
    "#Get training data\n",
    "X_kf_train=X_kf[training_set,:]\n",
    "y_kf_train=y_kf[training_set,:]\n",
    "\n",
    "#Get testing data\n",
    "X_kf_test=X_kf[testing_set,:]\n",
    "y_kf_test=y_kf[testing_set,:]\n",
    "\n",
    "#Get validation data\n",
    "X_kf_valid=X_kf[valid_set,:]\n",
    "y_kf_valid=y_kf[valid_set,:]"
   ]
  },
  {
   "cell_type": "markdown",
   "metadata": {},
   "source": [
    "### 3E. Preprocessing: Normalization and zero-centering\n",
    "We normalize (z_score) the inputs and zero-center the outputs.\n",
    "Parameters for z-scoring (mean/std.) should be determined on the training set only, and then these z-scoring parameters are also used on the testing and validation sets."
   ]
  },
  {
   "cell_type": "code",
   "execution_count": 49,
   "metadata": {},
   "outputs": [],
   "source": [
    "#Z-score inputs \n",
    "X_kf_train_mean=np.nanmean(X_kf_train,axis=0)\n",
    "X_kf_train_std=np.nanstd(X_kf_train,axis=0)\n",
    "X_kf_train=(X_kf_train-X_kf_train_mean)/X_kf_train_std\n",
    "X_kf_test=(X_kf_test-X_kf_train_mean)/X_kf_train_std\n",
    "X_kf_valid=(X_kf_valid-X_kf_train_mean)/X_kf_train_std\n",
    "\n",
    "#Zero-center outputs\n",
    "y_kf_train_mean=np.mean(y_kf_train,axis=0)\n",
    "y_kf_train=y_kf_train-y_kf_train_mean\n",
    "y_kf_test=y_kf_test-y_kf_train_mean\n",
    "y_kf_valid=y_kf_valid-y_kf_train_mean"
   ]
  },
  {
   "cell_type": "markdown",
   "metadata": {},
   "source": [
    "## 4. Run Decoder\n",
    "Note that in this example, we are evaluating the model fit on the validation set"
   ]
  },
  {
   "cell_type": "markdown",
   "metadata": {},
   "source": [
    "### Kalman Filter"
   ]
  },
  {
   "cell_type": "code",
   "execution_count": 68,
   "metadata": {},
   "outputs": [
    {
     "name": "stdout",
     "output_type": "stream",
     "text": [
      "1.1031885147094727\n",
      "R2: [0.46419202 0.5642563 ]\n",
      "rho2: [0.46728745 0.57989285]\n"
     ]
    }
   ],
   "source": [
    "import time\n",
    "\n",
    "#Declare model\n",
    "model_kf=KalmanFilterDecoder(C=5) #There is one optional parameter (see ReadMe)\n",
    "\n",
    "#Fit model\n",
    "model_kf.fit(X_kf_train,y_kf_train)\n",
    "\n",
    "start = time.time()\n",
    "#Get predictions\n",
    "y_valid_predicted_kf=model_kf.predict(X_kf_valid,y_kf_valid)\n",
    "end = time.time()\n",
    "print(end - start)\n",
    "\n",
    "#Get metrics of fit (see read me for more details on the differences between metrics)\n",
    "#First I'll get the R^2\n",
    "R2_kf=get_R2(y_kf_valid,y_valid_predicted_kf)\n",
    "print('R2:',R2_kf[0:2]) #I'm just printing the R^2's of the 1st and 2nd entries that correspond to the positions\n",
    "#Next I'll get the rho^2 (the pearson correlation squared)\n",
    "rho_kf=get_rho(y_kf_valid,y_valid_predicted_kf)\n",
    "print('rho2:',rho_kf[0:2]**2) #I'm just printing the rho^2's of the 1st and 2nd entries that correspond to the positions"
   ]
  },
  {
   "cell_type": "code",
   "execution_count": 63,
   "metadata": {},
   "outputs": [],
   "source": [
    "A,W,H,Q = model_kf.model"
   ]
  },
  {
   "cell_type": "code",
   "execution_count": 64,
   "metadata": {},
   "outputs": [
    {
     "name": "stdout",
     "output_type": "stream",
     "text": [
      "(6, 6)\n",
      "(6, 6)\n",
      "(46, 6)\n",
      "(46, 46)\n",
      "6\n"
     ]
    }
   ],
   "source": [
    "print(A.shape)\n",
    "print(W.shape)\n",
    "print(H.shape)\n",
    "print(Q.shape)\n",
    "\n",
    "num_states = np.matrix(y_kf_valid.T).shape[0]\n",
    "print(num_states)"
   ]
  },
  {
   "cell_type": "code",
   "execution_count": 65,
   "metadata": {},
   "outputs": [
    {
     "name": "stdout",
     "output_type": "stream",
     "text": [
      "(19496, 6)\n",
      "(4176, 6)\n",
      "(4176, 6)\n"
     ]
    }
   ],
   "source": [
    "print(y_kf_train.shape)\n",
    "print(y_kf_valid.shape)\n",
    "print(y_kf_test.shape)"
   ]
  },
  {
   "cell_type": "code",
   "execution_count": 66,
   "metadata": {},
   "outputs": [],
   "source": [
    "#printing raw values into a file for tests                                                                                                                          \n",
    "counter = 0\n",
    "with open('A_array_hc.h', 'w') as f:\n",
    "  f.write(\"float A[] = {\")\n",
    "  for item in np.nditer(np.ravel(A)):\n",
    "    if(counter < A.shape[0]*A.shape[1]):\n",
    "      f.write(str(item))\n",
    "      if(counter < A.shape[0]*A.shape[1] - 1):\n",
    "        f.write(', ')\n",
    "      counter = counter+1\n",
    "\n",
    "  f.write(\"};\")\n",
    "  f.close()\n",
    "    \n",
    "counter = 0\n",
    "with open('W_array_hc.h', 'w') as f:\n",
    "  f.write(\"float W[] = {\")\n",
    "  for item in np.nditer(np.ravel(W)):\n",
    "    if(counter < W.shape[0]*W.shape[1]):\n",
    "      f.write(str(item))\n",
    "      if(counter < W.shape[0]*W.shape[1] - 1):\n",
    "        f.write(', ')\n",
    "      counter = counter+1\n",
    "\n",
    "  f.write(\"};\")\n",
    "  f.close()\n",
    "    \n",
    "counter = 0\n",
    "with open('H_array_hc.h', 'w') as f:\n",
    "  f.write(\"float H[] = {\")\n",
    "  for item in np.nditer(np.ravel(H)):\n",
    "    if(counter < H.shape[0]*H.shape[1]):\n",
    "      f.write(str(item))\n",
    "      if(counter < H.shape[0]*H.shape[1] - 1):\n",
    "        f.write(', ')\n",
    "      counter = counter+1\n",
    "\n",
    "  f.write(\"};\")\n",
    "  f.close()\n",
    "    \n",
    "counter = 0\n",
    "with open('Q_array_hc.h', 'w') as f:\n",
    "  f.write(\"float Q[] = {\")\n",
    "  for item in np.nditer(np.ravel(Q)):\n",
    "    if(counter < Q.shape[0]*Q.shape[1]):\n",
    "      f.write(str(item))\n",
    "      if(counter < Q.shape[0]*Q.shape[1] - 1):\n",
    "        f.write(', ')\n",
    "      counter = counter+1\n",
    "\n",
    "  f.write(\"};\")\n",
    "  f.close()\n",
    "    \n",
    "counter = 0\n",
    "with open('initial_state_array_hc.h', 'w') as f:\n",
    "  f.write(\"float initial[] = {\")\n",
    "  for item in np.nditer(np.ravel(y_kf_valid.T[:,0])):\n",
    "    if(counter < y_kf_valid.T[:,0].shape[0]):\n",
    "      f.write(str(item))\n",
    "      if(counter < y_kf_valid.T[:,0].shape[0] - 1):\n",
    "        f.write(', ')\n",
    "      counter = counter+1\n",
    "\n",
    "  f.write(\"};\")\n",
    "  f.close() \n",
    "    \n",
    "counter = 0\n",
    "with open('measurements_array_hc.h', 'w') as f:\n",
    "  f.write(\"float measurements[] = {\")\n",
    "  for item in np.nditer(np.ravel(X_kf_valid)):\n",
    "    if(counter < X_kf_valid.T.shape[0]*X_kf_valid.T.shape[1]):\n",
    "      f.write(str(item))\n",
    "      if(counter < X_kf_valid.T.shape[0]*X_kf_valid.T.shape[1] - 1):\n",
    "        f.write(', ')\n",
    "      counter = counter+1\n",
    "\n",
    "  f.write(\"};\")\n",
    "  f.close() \n",
    "    \n",
    "    \n",
    "counter = 0\n",
    "with open('prediction_array_hc.h', 'w') as f:\n",
    "  f.write(\"float prediction[] = {\")\n",
    "  for item in np.nditer(np.ravel(y_valid_predicted_kf)):\n",
    "    if(counter < y_valid_predicted_kf.T.shape[0]*y_valid_predicted_kf.T.shape[1]):\n",
    "      f.write(str(item))\n",
    "      if(counter < y_valid_predicted_kf.T.shape[0]*y_valid_predicted_kf.T.shape[1] - 1):\n",
    "        f.write(', ')\n",
    "      counter = counter+1\n",
    "\n",
    "  f.write(\"};\")\n",
    "  f.close() \n",
    "    \n",
    "counter = 0\n",
    "with open('real_array_hc.h', 'w') as f:\n",
    "  f.write(\"float real_out[] = {\")\n",
    "  for item in np.nditer(np.ravel(y_kf_valid)):\n",
    "    if(counter < y_kf_valid.T.shape[0]*y_kf_valid.T.shape[1]):\n",
    "      f.write(str(item))\n",
    "      if(counter < y_kf_valid.T.shape[0]*y_kf_valid.T.shape[1] - 1):\n",
    "        f.write(', ')\n",
    "      counter = counter+1\n",
    "\n",
    "  f.write(\"};\")\n",
    "  f.close() \n"
   ]
  },
  {
   "cell_type": "markdown",
   "metadata": {},
   "source": [
    "## 5. Make Plots"
   ]
  },
  {
   "cell_type": "code",
   "execution_count": 37,
   "metadata": {},
   "outputs": [
    {
     "data": {
      "text/plain": [
       "[<matplotlib.lines.Line2D at 0x7fbe80740190>]"
      ]
     },
     "execution_count": 37,
     "metadata": {},
     "output_type": "execute_result"
    },
    {
     "data": {
      "image/png": "[encoded data removed]",
      "text/plain": [
       "<Figure size 432x288 with 1 Axes>"
      ]
     },
     "metadata": {
      "needs_background": "light"
     },
     "output_type": "display_data"
    }
   ],
   "source": [
    "#As an example, I plot an example 3000 values of the x position (column index 0), both true and predicted with the Kalman filter\n",
    "#Note that I add back in the mean value, so that both true and predicted values are in the original coordinates\n",
    "fig_x_kf=plt.figure()\n",
    "plt.plot(y_kf_valid[2000:5000,0]+y_kf_train_mean[0],'b')\n",
    "plt.plot(y_valid_predicted_kf[2000:5000,0]+y_kf_train_mean[0],'r')\n",
    "#Save figure\n",
    "# fig_x_kf.savefig('x_position_decoding.eps')"
   ]
  },
  {
   "cell_type": "code",
   "execution_count": null,
   "metadata": {
    "collapsed": true
   },
   "outputs": [],
   "source": []
  }
 ],
 "metadata": {
  "anaconda-cloud": {},
  "kernelspec": {
   "display_name": "Python 3 (ipykernel)",
   "language": "python",
   "name": "python3"
  },
  "language_info": {
   "codemirror_mode": {
    "name": "ipython",
    "version": 3
   },
   "file_extension": ".py",
   "mimetype": "text/x-python",
   "name": "python",
   "nbconvert_exporter": "python",
   "pygments_lexer": "ipython3",
   "version": "3.9.12"
  }
 },
 "nbformat": 4,
 "nbformat_minor": 1
}
